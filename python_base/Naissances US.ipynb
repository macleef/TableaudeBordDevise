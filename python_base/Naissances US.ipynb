{
 "cells": [
  {
   "cell_type": "code",
   "execution_count": 8,
   "metadata": {},
   "outputs": [
    {
     "name": "stdout",
     "output_type": "stream",
     "text": [
      "['year,month,date_of_month,day_of_week,births', '2000,1,1,6,9083', '2000,1,2,7,8006', '2000,1,3,1,11363', '2000,1,4,2,13032', '2000,1,5,3,12558', '2000,1,6,4,12466', '2000,1,7,5,12516', '2000,1,8,6,8934', '2000,1,9,7,7949']\n"
     ]
    }
   ],
   "source": [
    "US_birth = open(\"US-births-2000-2014.csv\",\"r\").read()\n",
    "\n",
    "birth_list=US_birth.split(\"\\n\")\n",
    "\n",
    "print (birth_list[0:10])"
   ]
  },
  {
   "cell_type": "code",
   "execution_count": 16,
   "metadata": {},
   "outputs": [
    {
     "name": "stdout",
     "output_type": "stream",
     "text": [
      "[[2000, 1, 1, 6, 9083], [2000, 1, 2, 7, 8006], [2000, 1, 3, 1, 11363], [2000, 1, 4, 2, 13032], [2000, 1, 5, 3, 12558], [2000, 1, 6, 4, 12466], [2000, 1, 7, 5, 12516], [2000, 1, 8, 6, 8934], [2000, 1, 9, 7, 7949], [2000, 1, 10, 1, 11668]]\n"
     ]
    }
   ],
   "source": [
    "def read_csv(file):\n",
    "    f = open(file,'r')\n",
    "    string_list = f.read()\n",
    "    string_list = string_list.split('\\n')\n",
    "    string_list = string_list[1:]\n",
    "    \n",
    "    final_string = []\n",
    "    for value in string_list:\n",
    "        int_fields = []\n",
    "        string_field = value.split(',')\n",
    "        for row in string_field:\n",
    "            int_fields.append(int(row))\n",
    "        final_string.append(int_fields)\n",
    "        \n",
    "    return final_string\n",
    "\n",
    "us_birth_list = read_csv(\"US-births-2000-2014.csv\")\n",
    "\n",
    "print(us_birth_list[0:10])\n",
    "        "
   ]
  },
  {
   "cell_type": "code",
   "execution_count": 17,
   "metadata": {},
   "outputs": [
    {
     "name": "stdout",
     "output_type": "stream",
     "text": [
      "{1: 5072588, 2: 4725693, 3: 5172961, 4: 4960750, 5: 5195445, 6: 5163360, 7: 5450418, 8: 5540170, 9: 5399592, 10: 5302865, 11: 5008750, 12: 5194432}\n"
     ]
    }
   ],
   "source": [
    "def mont_birth(list):\n",
    "    month_births={}\n",
    "    \n",
    "    for li in list:\n",
    "        month = li[1]\n",
    "        birth = li[4]\n",
    "        \n",
    "        if month in month_births:\n",
    "            month_births[month] += birth\n",
    "        else:\n",
    "            month_births[month] = birth\n",
    "            \n",
    "    return month_births\n",
    "\n",
    "us_month_births=mont_birth(us_birth_list)\n",
    "print(us_month_births)\n",
    "    "
   ]
  },
  {
   "cell_type": "code",
   "execution_count": 29,
   "metadata": {},
   "outputs": [
    {
     "name": "stdout",
     "output_type": "stream",
     "text": [
      "{6: 6704495, 7: 5886889, 1: 9316001, 2: 10274874, 3: 10109130, 4: 10045436, 5: 9850199}\n"
     ]
    }
   ],
   "source": [
    "def week_birth(list):\n",
    "    week_births={}\n",
    "    \n",
    "    for li in list:\n",
    "        week = li[3]\n",
    "        birth = li[4]\n",
    "        \n",
    "        if week in week_births:\n",
    "            week_births[week] += birth\n",
    "        else:\n",
    "            week_births[week] = birth\n",
    "            \n",
    "    return(week_births)\n",
    "\n",
    "us_days_births=week_birth(us_birth_list)\n",
    "\n",
    "print(us_days_births)"
   ]
  },
  {
   "cell_type": "code",
   "execution_count": 32,
   "metadata": {},
   "outputs": [
    {
     "name": "stdout",
     "output_type": "stream",
     "text": [
      "{2000: 4149598, 2001: 4110963, 2002: 4099313, 2003: 4163060, 2004: 4186863, 2005: 4211941, 2006: 4335154, 2007: 4380784, 2008: 4310737, 2009: 4190991, 2010: 4055975, 2011: 4006908, 2012: 4000868, 2013: 3973337, 2014: 4010532}\n"
     ]
    }
   ],
   "source": [
    "def calc_counts(list, col):\n",
    "    births={}\n",
    "    \n",
    "    for li in list:\n",
    "        search = li[col]\n",
    "        birth = li[4]\n",
    "        \n",
    "        if search in births:\n",
    "            births[search] += birth\n",
    "        else:\n",
    "            births[search] = birth\n",
    "            \n",
    "    return births\n",
    "\n",
    "us_years_birth=calc_counts(us_birth_list, 0)\n",
    "\n",
    "print(us_years_birth)"
   ]
  },
  {
   "cell_type": "code",
   "execution_count": null,
   "metadata": {},
   "outputs": [],
   "source": []
  }
 ],
 "metadata": {
  "kernelspec": {
   "display_name": "Python 3",
   "language": "python",
   "name": "python3"
  },
  "language_info": {
   "codemirror_mode": {
    "name": "ipython",
    "version": 3
   },
   "file_extension": ".py",
   "mimetype": "text/x-python",
   "name": "python",
   "nbconvert_exporter": "python",
   "pygments_lexer": "ipython3",
   "version": "3.6.4"
  }
 },
 "nbformat": 4,
 "nbformat_minor": 2
}
