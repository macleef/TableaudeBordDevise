{
 "cells": [
  {
   "cell_type": "code",
   "execution_count": 4,
   "metadata": {},
   "outputs": [
    {
     "name": "stdout",
     "output_type": "stream",
     "text": [
      "[['Jour', 'Climat'], ['1', 'Soleil'], ['2', 'Soleil'], ['3', 'Soleil'], ['4', 'Soleil']]\n"
     ]
    }
   ],
   "source": [
    "weather_data=[]\n",
    "\n",
    "f = open(\"madrid-weather-2016.csv\", \"r\")\n",
    "data = f.read()\n",
    "rows = data.split('\\n')\n",
    "for row in rows:\n",
    "    split_row = row.split(',')\n",
    "    weather_data.append(split_row)\n",
    "    \n",
    "print(weather_data[0:5])\n"
   ]
  },
  {
   "cell_type": "code",
   "execution_count": 15,
   "metadata": {},
   "outputs": [
    {
     "name": "stdout",
     "output_type": "stream",
     "text": [
      "[True, True, True, True, True, False]\n"
     ]
    }
   ],
   "source": [
    "new_weather = weather_data[1:366]\n",
    "\n",
    "weathers = []\n",
    "for row in new_weather:\n",
    "    weathers.append(row[1])\n",
    "\n",
    "weather_list = [\"Pluie\",\"Soleil\",\"Nuage\",\"Nuage-Pluie\",\"Orage\",\"Climat\"]\n",
    "weather_type_found=[]\n",
    "\n",
    "for weather in weather_list:\n",
    "    weather_type_found.append(weather in weathers)\n",
    "    \n",
    "print(weather_type_found)"
   ]
  },
  {
   "cell_type": "code",
   "execution_count": 25,
   "metadata": {},
   "outputs": [
    {
     "name": "stdout",
     "output_type": "stream",
     "text": [
      "{'Soleil': 210, 'Pluie': 25, 'Nuage': 125, 'Nuage-Pluie': 4, 'Orage': 1}\n"
     ]
    }
   ],
   "source": [
    "weather_counts = {}\n",
    "\n",
    "for item in weathers:\n",
    "    if item in weather_counts:\n",
    "        weather_counts[item]+=1\n",
    "    else:\n",
    "        weather_counts[item]=1\n",
    "\n",
    "print(weather_counts)\n",
    "        \n",
    "    "
   ]
  }
 ],
 "metadata": {
  "kernelspec": {
   "display_name": "Python 3",
   "language": "python",
   "name": "python3"
  },
  "language_info": {
   "codemirror_mode": {
    "name": "ipython",
    "version": 3
   },
   "file_extension": ".py",
   "mimetype": "text/x-python",
   "name": "python",
   "nbconvert_exporter": "python",
   "pygments_lexer": "ipython3",
   "version": "3.6.4"
  }
 },
 "nbformat": 4,
 "nbformat_minor": 2
}
