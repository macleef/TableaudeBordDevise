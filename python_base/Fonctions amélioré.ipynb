{
 "cells": [
  {
   "cell_type": "code",
   "execution_count": 2,
   "metadata": {},
   "outputs": [],
   "source": [
    "vocabulary = open(\"dictionnaire.txt\", \"r\", encoding=\"utf-8\").read()\n",
    "f = open(\"texte.txt\", \"r\", encoding=\"utf-8\")\n",
    "text_string = f.read()\n",
    "\n",
    "characteres = [\".\",\",\",\";\",\"'\",\"\\n\"]\n",
    "replacement = \"\"\n",
    "\n",
    "def clean_text(string_value, special_charactere, replacement_string):\n",
    "    cleaned_value = string_value.lower()\n",
    "    for value in special_charactere:\n",
    "        cleaned_value = cleaned_value.replace(value,replacement_string)\n",
    "    return cleaned_value\n",
    "\n",
    "def tokenize(string_value, special_charactere, replacement_string):\n",
    "    cleaned_text = clean_text(string_value, special_charactere, replacement_string)\n",
    "    text_tokens = cleaned_text.split()\n",
    "    return text_tokens"
   ]
  },
  {
   "cell_type": "code",
   "execution_count": 8,
   "metadata": {},
   "outputs": [
    {
     "name": "stdout",
     "output_type": "stream",
     "text": [
      "['scence', 'conaissance', 'téorie', 'statistiqe', 'stokage', 'dicipline', 'come']\n"
     ]
    }
   ],
   "source": [
    "def spell_check(vocabulary_file, text_file, special_characteres = [\".\",\",\",\"\",\"\\n\",\"'\"], replacement_string = \"\"):\n",
    "    mispelled_words = []\n",
    "    vocabulary = open(vocabulary_file, \"r\", encoding=\"utf-8\").read()\n",
    "    text = open(text_file, \"r\", encoding=\"utf-8\").read()\n",
    "    \n",
    "    vocabulary_token = tokenize(vocabulary, special_characteres, replacement_string)\n",
    "    text_token = tokenize(text, special_characteres, replacement_string)\n",
    "    \n",
    "    for word in text_token:\n",
    "        if word not in vocabulary_token:\n",
    "            mispelled_words.append(word)\n",
    "    return mispelled_words\n",
    "\n",
    "final_mispelled_words = spell_check(\"dictionnaire.txt\", \"texte.txt\")\n",
    "\n",
    "print(final_mispelled_words)\n",
    "    "
   ]
  },
  {
   "cell_type": "code",
   "execution_count": null,
   "metadata": {},
   "outputs": [],
   "source": []
  }
 ],
 "metadata": {
  "kernelspec": {
   "display_name": "Python 3",
   "language": "python",
   "name": "python3"
  },
  "language_info": {
   "codemirror_mode": {
    "name": "ipython",
    "version": 3
   },
   "file_extension": ".py",
   "mimetype": "text/x-python",
   "name": "python",
   "nbconvert_exporter": "python",
   "pygments_lexer": "ipython3",
   "version": "3.6.4"
  }
 },
 "nbformat": 4,
 "nbformat_minor": 2
}
