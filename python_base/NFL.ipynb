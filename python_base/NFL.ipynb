{
 "cells": [
  {
   "cell_type": "code",
   "execution_count": 2,
   "metadata": {},
   "outputs": [],
   "source": [
    "import csv\n",
    "\n",
    "f = open('nfl.csv')\n",
    "nfl = list (csv.reader(f))\n",
    "\n"
   ]
  },
  {
   "cell_type": "code",
   "execution_count": 3,
   "metadata": {},
   "outputs": [
    {
     "name": "stdout",
     "output_type": "stream",
     "text": [
      "43\n"
     ]
    }
   ],
   "source": [
    "import csv\n",
    "\n",
    "def nfl_wins(team):\n",
    "    f = open('nfl.csv')\n",
    "    nfl = list (csv.reader(f))\n",
    "    \n",
    "    team_win=0\n",
    "    for row in nfl:\n",
    "        if row[2] == team:\n",
    "            team_win+=1\n",
    "            \n",
    "    return team_win\n",
    "\n",
    "print(nfl_wins(\"New York Giants\"))\n",
    "    "
   ]
  },
  {
   "cell_type": "code",
   "execution_count": 16,
   "metadata": {},
   "outputs": [
    {
     "name": "stdout",
     "output_type": "stream",
     "text": [
      "9\n"
     ]
    }
   ],
   "source": [
    "import csv\n",
    "f = open('nfl.csv')\n",
    "nfl = list (csv.reader(f))\n",
    "\n",
    "def nfl_wins_per_years(team, year):    \n",
    "    team_win=0\n",
    "    for row in nfl:\n",
    "        if (row[2] == team and row[0] == year):\n",
    "            team_win+=1\n",
    "            \n",
    "    return team_win\n",
    "\n",
    "print(nfl_wins_per_years(\"New York Giants\",\"2012\"))"
   ]
  },
  {
   "cell_type": "code",
   "execution_count": 29,
   "metadata": {},
   "outputs": [
    {
     "name": "stdout",
     "output_type": "stream",
     "text": [
      "12\n"
     ]
    }
   ],
   "source": [
    "class Team():\n",
    "    def __init__(self,name):        \n",
    "        self.name = name\n",
    "        f = open('nfl.csv')\n",
    "        nfl = list (csv.reader(f))\n",
    "    def count_total_wins(self):        \n",
    "        count = 0\n",
    "        for row in nfl:\n",
    "            if row[2] == self.name:\n",
    "                count+=1\n",
    "        return count\n",
    "    \n",
    "    def count_wins_per_years(self, year):    \n",
    "        team_win=0\n",
    "        for row in nfl:\n",
    "            if (row[2] == self.name and row[0] == year):\n",
    "                team_win+=1\n",
    "        return team_win\n",
    "\n",
    "SF = Team(\"San Francisco 49ers\")\n",
    "SF_Victory = SF.count_total_wins()\n",
    "SF_VICTORY_2013 = SF.count_wins_per_years(\"2013\")\n",
    "\n",
    "print(SF_VICTORY_2013)"
   ]
  },
  {
   "cell_type": "code",
   "execution_count": 5,
   "metadata": {},
   "outputs": [
    {
     "name": "stdout",
     "output_type": "stream",
     "text": [
      "{'2014': 29, '1946': 1, '1947': 1, '2010': 21, '2008': 10, '2007': 17, '1983': 1, '2009': 10, '2005': 8, '2000': 1, '2012': 45, '2001': 3, '2006': 11, '1989': 17, '   ': 1, '1963': 1, '2013': 40, '1990': 3, '2011': 13, '2004': 6, '2002': 7, '2003': 9, '1997': 3, '1999': 5, '1993': 1, '1995': 1, '1998': 2, '1994': 1, '1986': 1}\n",
      "0\n"
     ]
    }
   ],
   "source": [
    "import csv\n",
    "\n",
    "f_nfl_sus = open('nfl-suspensions-data.csv', 'r')\n",
    "nfl_suspensions = list(csv.reader(f_nfl_sus))\n",
    "\n",
    "nfl_suspensions = nfl_suspensions[1:]\n",
    "\n",
    "years = {}\n",
    "for data in nfl_suspensions:\n",
    "    year = data[5]\n",
    "    if year in years:\n",
    "        years[year] += 1\n",
    "    else:\n",
    "        years[year] = 1\n",
    "\n",
    "print(years)\n",
    "\n",
    "teams = [row[1] for row in nfl_suspensions]\n",
    "unique_teams = set(teams)\n",
    "\n",
    "games = [row[2] for row in nfl_suspensions]\n",
    "unique_games = set(games)\n",
    "\n",
    "\n",
    "class Suspensions():\n",
    "    def __init__(self, ligne):\n",
    "        self.name = ligne[0]\n",
    "        self.team = ligne[1]\n",
    "        self.games = ligne[2]\n",
    "        try:\n",
    "            self.year = int(ligne[5])\n",
    "        except Exception:\n",
    "            self.year = 0\n",
    "\n",
    "    def get_year(self):\n",
    "        print(self.year)\n",
    "\n",
    "\n",
    "ligne3 = Suspensions(nfl_suspensions[22])\n",
    "ligne3.get_year()\n",
    "\n"
   ]
  },
  {
   "cell_type": "code",
   "execution_count": null,
   "metadata": {},
   "outputs": [],
   "source": []
  }
 ],
 "metadata": {
  "kernelspec": {
   "display_name": "Python 3",
   "language": "python",
   "name": "python3"
  },
  "language_info": {
   "codemirror_mode": {
    "name": "ipython",
    "version": 3
   },
   "file_extension": ".py",
   "mimetype": "text/x-python",
   "name": "python",
   "nbconvert_exporter": "python",
   "pygments_lexer": "ipython3",
   "version": "3.7.3"
  }
 },
 "nbformat": 4,
 "nbformat_minor": 2
}
