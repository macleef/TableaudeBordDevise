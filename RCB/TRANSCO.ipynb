{
 "cells": [
  {
   "cell_type": "code",
   "execution_count": 1,
   "metadata": {},
   "outputs": [
    {
     "name": "stdout",
     "output_type": "stream",
     "text": [
      "[['PARTNER', 'TYPE', 'IDNUMBER', 'TIERS_LEGACY', 'ADRESSE_LEGACY', 'GROUPING', 'NOM_1', 'NUMERO_ADRESSE_S4'], ['10000', 'ZCLC1', '010000001', '010000', '001', 'ZPFP', 'SARL PHIE DE THOISSEY', '86835'], ['10000', 'ZCLH1', '010000001', '010000', '001', 'ZPFP', 'SARL PHIE DE THOISSEY', '86835'], ['10000', 'ZCLM1', '010000001', '010000', '001', 'ZPFP', 'SARL PHIE DE THOISSEY', '86835'], ['1000001', 'ZFRH1', '528877001', '528877', '001', 'ZPFP', 'ANAPLAN LIMITED', '23877'], ['1000002', 'ZFRH1', '529074001', '529074', '001', 'ZPFP', 'WAVESTONE', '31333'], ['1000005', 'ZFRH1', '528342001', '528342', '001', 'ZPFP', 'ALLO TAXI MURETAIN', '34286'], ['1000006', 'ZFRH1', '502668001', '502668', '001', 'ZPFP', 'CCI TOULOUSE', '34358'], ['1000007', 'ZFRH1', '510052001', '510052', '001', 'ZPFP', 'C3S', '34359'], ['1000008', 'ZFRH1', '512491001', '512491', '001', 'ZPFP', 'KEDGE BUSINESS SCHOOL', '34360']]\n",
      "\n",
      "[['PRODUCTID', 'OK_ID_TIERS', 'ERP_ID_TIERS', 'ERP_ID_TIERS_QUALIAC', 'ROLE'], ['RCB_TIE000000000004', 'WFRE00000013', '140413', '140413', 'C'], ['RCB_TIE000000001002', 'WFRE00003449', '074210', '074210', 'C'], ['RCB_TIE000000000012', 'WFRE00000077', '109159', '109159', 'C'], ['RCB_TIE000000000212', 'WFRE00000910', '210566', '210566', 'C']]\n"
     ]
    }
   ],
   "source": [
    "import csv\n",
    "f_transco=open(\"Transco.csv\")\n",
    "f_tiers=open(\"export_BDD.csv\")\n",
    "transco = list(csv.reader(f_transco))\n",
    "print(transco[0:10])\n",
    "tiers = list(csv.reader(f_tiers))\n",
    "print()\n",
    "print(tiers[0:5])\n",
    "\n"
   ]
  },
  {
   "cell_type": "code",
   "execution_count": 3,
   "metadata": {},
   "outputs": [
    {
     "name": "stdout",
     "output_type": "stream",
     "text": [
      "['TIERS_LEGACY', '010000', '010000', '010000', '528877', '529074', '528342', '502668', '510052', '512491', '507459', '514221', '529098', '529171', '107901', '528950', '518024', '529043', '529068', '529084']\n",
      "[]\n"
     ]
    }
   ],
   "source": [
    "tiers_legacy=[]\n",
    "for item in transco:\n",
    "    tier = item[3]\n",
    "    tiers_legacy.append(tier)\n",
    "\n",
    "print(tiers_legacy[0:20])\n",
    "productid=[]\n",
    "test=[]\n",
    "for items in tiers:\n",
    "    tiers=items[0]\n",
    "    test.append(tiers)\n",
    "    if tiers in tiers_legacy:\n",
    "        productid.append(items[0])\n",
    "        \n",
    "print(productid)"
   ]
  },
  {
   "cell_type": "code",
   "execution_count": null,
   "metadata": {},
   "outputs": [],
   "source": []
  }
 ],
 "metadata": {
  "kernelspec": {
   "display_name": "Python 3",
   "language": "python",
   "name": "python3"
  },
  "language_info": {
   "codemirror_mode": {
    "name": "ipython",
    "version": 3
   },
   "file_extension": ".py",
   "mimetype": "text/x-python",
   "name": "python",
   "nbconvert_exporter": "python",
   "pygments_lexer": "ipython3",
   "version": "3.7.1"
  }
 },
 "nbformat": 4,
 "nbformat_minor": 2
}
