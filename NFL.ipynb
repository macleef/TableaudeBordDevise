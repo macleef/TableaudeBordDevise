{
 "cells": [
  {
   "cell_type": "code",
   "execution_count": 1,
   "metadata": {},
   "outputs": [],
   "source": [
    "import csv\n",
    "\n",
    "f = open('nfl.csv')\n",
    "nfl = list (csv.reader(f))\n",
    "\n"
   ]
  },
  {
   "cell_type": "code",
   "execution_count": 14,
   "metadata": {},
   "outputs": [
    {
     "name": "stdout",
     "output_type": "stream",
     "text": [
      "43\n"
     ]
    }
   ],
   "source": [
    "import csv\n",
    "\n",
    "def nfl_wins(team):\n",
    "    f = open('nfl.csv')\n",
    "    nfl = list (csv.reader(f))\n",
    "    \n",
    "    team_win=0\n",
    "    for row in nfl:\n",
    "        if row[2] == team:\n",
    "            team_win+=1\n",
    "            \n",
    "    return team_win\n",
    "\n",
    "print(nfl_wins(\"New York Giants\"))\n",
    "    "
   ]
  },
  {
   "cell_type": "code",
   "execution_count": 16,
   "metadata": {},
   "outputs": [
    {
     "name": "stdout",
     "output_type": "stream",
     "text": [
      "9\n"
     ]
    }
   ],
   "source": [
    "import csv\n",
    "f = open('nfl.csv')\n",
    "nfl = list (csv.reader(f))\n",
    "\n",
    "def nfl_wins_per_years(team, year):    \n",
    "    team_win=0\n",
    "    for row in nfl:\n",
    "        if (row[2] == team and row[0] == year):\n",
    "            team_win+=1\n",
    "            \n",
    "    return team_win\n",
    "\n",
    "print(nfl_wins_per_years(\"New York Giants\",\"2012\"))"
   ]
  },
  {
   "cell_type": "code",
   "execution_count": 29,
   "metadata": {},
   "outputs": [
    {
     "name": "stdout",
     "output_type": "stream",
     "text": [
      "12\n"
     ]
    }
   ],
   "source": [
    "class Team():\n",
    "    def __init__(self,name):        \n",
    "        self.name = name\n",
    "        f = open('nfl.csv')\n",
    "        nfl = list (csv.reader(f))\n",
    "    def count_total_wins(self):        \n",
    "        count = 0\n",
    "        for row in nfl:\n",
    "            if row[2] == self.name:\n",
    "                count+=1\n",
    "        return count\n",
    "    \n",
    "    def count_wins_per_years(self, year):    \n",
    "        team_win=0\n",
    "        for row in nfl:\n",
    "            if (row[2] == self.name and row[0] == year):\n",
    "                team_win+=1\n",
    "        return team_win\n",
    "\n",
    "SF = Team(\"San Francisco 49ers\")\n",
    "SF_Victory = SF.count_total_wins()\n",
    "SF_VICTORY_2013 = SF.count_wins_per_years(\"2013\")\n",
    "\n",
    "print(SF_VICTORY_2013)"
   ]
  },
  {
   "cell_type": "code",
   "execution_count": null,
   "metadata": {},
   "outputs": [],
   "source": []
  }
 ],
 "metadata": {
  "kernelspec": {
   "display_name": "Python 3",
   "language": "python",
   "name": "python3"
  },
  "language_info": {
   "codemirror_mode": {
    "name": "ipython",
    "version": 3
   },
   "file_extension": ".py",
   "mimetype": "text/x-python",
   "name": "python",
   "nbconvert_exporter": "python",
   "pygments_lexer": "ipython3",
   "version": "3.7.1"
  }
 },
 "nbformat": 4,
 "nbformat_minor": 2
}
