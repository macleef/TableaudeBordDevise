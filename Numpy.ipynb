{
 "cells": [
  {
   "cell_type": "code",
   "execution_count": 2,
   "metadata": {},
   "outputs": [],
   "source": [
    "import numpy as np"
   ]
  },
  {
   "cell_type": "code",
   "execution_count": 3,
   "metadata": {},
   "outputs": [],
   "source": [
    "vector = np.array([3, 4, 17,65])"
   ]
  },
  {
   "cell_type": "code",
   "execution_count": 4,
   "metadata": {},
   "outputs": [
    {
     "name": "stdout",
     "output_type": "stream",
     "text": [
      "[ 3  4 17 65]\n"
     ]
    }
   ],
   "source": [
    "print(vector)"
   ]
  },
  {
   "cell_type": "code",
   "execution_count": 5,
   "metadata": {},
   "outputs": [],
   "source": [
    "matrix = np.array([[2, 5, 15], [20, 50, 30], [39, 99, 45]])"
   ]
  },
  {
   "cell_type": "code",
   "execution_count": 6,
   "metadata": {},
   "outputs": [
    {
     "name": "stdout",
     "output_type": "stream",
     "text": [
      "[[ 2  5 15]\n",
      " [20 50 30]\n",
      " [39 99 45]]\n"
     ]
    }
   ],
   "source": [
    "print(matrix)"
   ]
  },
  {
   "cell_type": "code",
   "execution_count": 7,
   "metadata": {},
   "outputs": [
    {
     "name": "stdout",
     "output_type": "stream",
     "text": [
      "(3, 3)\n"
     ]
    }
   ],
   "source": [
    "print(matrix.shape)"
   ]
  },
  {
   "cell_type": "code",
   "execution_count": 61,
   "metadata": {},
   "outputs": [
    {
     "name": "stdout",
     "output_type": "stream",
     "text": [
      "<class 'numpy.ndarray'>\n"
     ]
    }
   ],
   "source": [
    "world_alcohol = np.genfromtxt('world-alcohol.csv', delimiter=',', dtype=\"U75\", skip_header=1)\n",
    "print(type(world_alcohol))"
   ]
  },
  {
   "cell_type": "code",
   "execution_count": 62,
   "metadata": {},
   "outputs": [
    {
     "name": "stdout",
     "output_type": "stream",
     "text": [
      "<U75\n"
     ]
    }
   ],
   "source": [
    "world_alcohol_dtype = world_alcohol.dtype\n",
    "print(world_alcohol_dtype)"
   ]
  },
  {
   "cell_type": "code",
   "execution_count": 63,
   "metadata": {},
   "outputs": [
    {
     "data": {
      "text/plain": [
       "array([['1986', 'Western Pacific', 'Viet Nam', 'Wine', '0'],\n",
       "       ['1986', 'Americas', 'Uruguay', 'Other', '0.5'],\n",
       "       ['1985', 'Africa', \"Cte d'Ivoire\", 'Wine', '1.62'],\n",
       "       ...,\n",
       "       ['1986', 'Europe', 'Switzerland', 'Spirits', '2.54'],\n",
       "       ['1987', 'Western Pacific', 'Papua New Guinea', 'Other', '0'],\n",
       "       ['1986', 'Africa', 'Swaziland', 'Other', '5.15']], dtype='<U75')"
      ]
     },
     "execution_count": 63,
     "metadata": {},
     "output_type": "execute_result"
    }
   ],
   "source": [
    "world_alcohol"
   ]
  },
  {
   "cell_type": "code",
   "execution_count": 22,
   "metadata": {},
   "outputs": [],
   "source": [
    "ivoire_1985 = world_alcohol[2,4]\n",
    "second_country = world_alcohol[1,2]"
   ]
  },
  {
   "cell_type": "code",
   "execution_count": 24,
   "metadata": {},
   "outputs": [
    {
     "data": {
      "text/plain": [
       "'1.62'"
      ]
     },
     "execution_count": 24,
     "metadata": {},
     "output_type": "execute_result"
    }
   ],
   "source": [
    "ivoire_1985"
   ]
  },
  {
   "cell_type": "code",
   "execution_count": 26,
   "metadata": {},
   "outputs": [],
   "source": [
    "countries = world_alcohol[:,2]\n",
    "alcohol_consumption = world_alcohol[:,4]"
   ]
  },
  {
   "cell_type": "code",
   "execution_count": 28,
   "metadata": {},
   "outputs": [
    {
     "data": {
      "text/plain": [
       "array(['0', '0.5', '1.62', ..., '2.54', '0', '5.15'], dtype='<U75')"
      ]
     },
     "execution_count": 28,
     "metadata": {},
     "output_type": "execute_result"
    }
   ],
   "source": [
    "alcohol_consumption"
   ]
  },
  {
   "cell_type": "code",
   "execution_count": 32,
   "metadata": {},
   "outputs": [],
   "source": [
    "first_two_colums= world_alcohol[:,0:2]\n",
    "first_ten_years=world_alcohol[0:10,0]\n",
    "first_ten_rows=world_alcohol[0:10,:]\n",
    "first_twenty_region= world_alcohol[0:20, 1:3]"
   ]
  },
  {
   "cell_type": "code",
   "execution_count": 33,
   "metadata": {},
   "outputs": [
    {
     "data": {
      "text/plain": [
       "array([['1986', 'Western Pacific', 'Viet Nam', 'Wine', '0'],\n",
       "       ['1986', 'Americas', 'Uruguay', 'Other', '0.5'],\n",
       "       ['1985', 'Africa', \"Cte d'Ivoire\", 'Wine', '1.62'],\n",
       "       ['1986', 'Americas', 'Colombia', 'Beer', '4.27'],\n",
       "       ['1987', 'Americas', 'Saint Kitts and Nevis', 'Beer', '1.98'],\n",
       "       ['1987', 'Americas', 'Guatemala', 'Other', '0'],\n",
       "       ['1987', 'Africa', 'Mauritius', 'Wine', '0.13'],\n",
       "       ['1985', 'Africa', 'Angola', 'Spirits', '0.39'],\n",
       "       ['1986', 'Americas', 'Antigua and Barbuda', 'Spirits', '1.55'],\n",
       "       ['1984', 'Africa', 'Nigeria', 'Other', '6.1']], dtype='<U75')"
      ]
     },
     "execution_count": 33,
     "metadata": {},
     "output_type": "execute_result"
    }
   ],
   "source": [
    "first_ten_rows"
   ]
  },
  {
   "cell_type": "code",
   "execution_count": 35,
   "metadata": {},
   "outputs": [],
   "source": [
    "countries_canada = world_alcohol[:,2] == \"Canada\"\n",
    "variable_year_1984 = world_alcohol[:,0] == \"1984\""
   ]
  },
  {
   "cell_type": "code",
   "execution_count": 37,
   "metadata": {},
   "outputs": [
    {
     "name": "stdout",
     "output_type": "stream",
     "text": [
      "[False False False ... False False False]\n",
      "[False False False ... False False False]\n"
     ]
    }
   ],
   "source": [
    "print(countries_canada)\n",
    "print(variable_year_1984)"
   ]
  },
  {
   "cell_type": "code",
   "execution_count": 38,
   "metadata": {},
   "outputs": [],
   "source": [
    "country_is_Algeria = world_alcohol[:,2]==\"Algeria\"\n",
    "country_Algeria=world_alcohol[country_is_Algeria,:]"
   ]
  },
  {
   "cell_type": "code",
   "execution_count": 39,
   "metadata": {},
   "outputs": [
    {
     "name": "stdout",
     "output_type": "stream",
     "text": [
      "[['1984' 'Africa' 'Algeria' 'Spirits' '0.01']\n",
      " ['1987' 'Africa' 'Algeria' 'Beer' '0.17']\n",
      " ['1987' 'Africa' 'Algeria' 'Spirits' '0.01']\n",
      " ['1986' 'Africa' 'Algeria' 'Wine' '0.1']\n",
      " ['1984' 'Africa' 'Algeria' 'Other' '0']\n",
      " ['1989' 'Africa' 'Algeria' 'Beer' '0.16']\n",
      " ['1989' 'Africa' 'Algeria' 'Spirits' '0.01']\n",
      " ['1989' 'Africa' 'Algeria' 'Wine' '0.23']\n",
      " ['1986' 'Africa' 'Algeria' 'Spirits' '0.01']\n",
      " ['1984' 'Africa' 'Algeria' 'Wine' '0.12']\n",
      " ['1985' 'Africa' 'Algeria' 'Beer' '0.19']\n",
      " ['1985' 'Africa' 'Algeria' 'Other' '0']\n",
      " ['1986' 'Africa' 'Algeria' 'Beer' '0.18']\n",
      " ['1985' 'Africa' 'Algeria' 'Wine' '0.11']\n",
      " ['1986' 'Africa' 'Algeria' 'Other' '0']\n",
      " ['1989' 'Africa' 'Algeria' 'Other' '0']\n",
      " ['1987' 'Africa' 'Algeria' 'Other' '0']\n",
      " ['1984' 'Africa' 'Algeria' 'Beer' '0.2']\n",
      " ['1985' 'Africa' 'Algeria' 'Spirits' '0.01']\n",
      " ['1987' 'Africa' 'Algeria' 'Wine' '0.1']]\n"
     ]
    }
   ],
   "source": [
    "print(country_Algeria)"
   ]
  },
  {
   "cell_type": "code",
   "execution_count": 43,
   "metadata": {},
   "outputs": [],
   "source": [
    "years_1984=world_alcohol[(world_alcohol[:,0]=='1984'),:]"
   ]
  },
  {
   "cell_type": "code",
   "execution_count": 44,
   "metadata": {},
   "outputs": [
    {
     "name": "stdout",
     "output_type": "stream",
     "text": [
      "[['1984' 'Africa' 'Nigeria' 'Other' '6.1']\n",
      " ['1984' 'Eastern Mediterranean' 'Afghanistan' 'Other' '0']\n",
      " ['1984' 'Americas' 'Costa Rica' 'Wine' '0.06']\n",
      " ...\n",
      " ['1984' 'Europe' 'Latvia' 'Spirits' '7.5']\n",
      " ['1984' 'Africa' 'Angola' 'Wine' '0.57']\n",
      " ['1984' 'Africa' 'Central African Republic' 'Wine' '0.46']]\n"
     ]
    }
   ],
   "source": [
    "print(years_1984)"
   ]
  },
  {
   "cell_type": "code",
   "execution_count": 52,
   "metadata": {},
   "outputs": [
    {
     "name": "stdout",
     "output_type": "stream",
     "text": [
      "[['1986' 'Americas' 'Colombia' 'Beer' '4.27']\n",
      " ['1986' 'Africa' 'Algeria' 'Wine' '0.1']\n",
      " ['1986' 'Africa' 'Algeria' 'Spirits' '0.01']\n",
      " ['1986' 'Americas' 'Colombia' 'Wine' '0.15']\n",
      " ['1986' 'Americas' 'Colombia' 'Spirits' '2.19']\n",
      " ['1986' 'Africa' 'Algeria' 'Beer' '0.18']\n",
      " ['1986' 'Africa' 'Algeria' 'Other' '0']\n",
      " ['1986' 'Americas' 'Colombia' 'Other' '0']]\n"
     ]
    }
   ],
   "source": [
    "algeria_in_1986 = (world_alcohol[:,0]=='1986') & ((world_alcohol[:,2] == 'Algeria') | (world_alcohol[:,2] =='Colombia'))\n",
    "row_algeria_in_1986 = world_alcohol[algeria_in_1986,:]\n",
    "print(row_algeria_in_1986)"
   ]
  },
  {
   "cell_type": "code",
   "execution_count": 64,
   "metadata": {},
   "outputs": [],
   "source": [
    "world_alcohol_2 = world_alcohol\n",
    "value_1986 = world_alcohol_2[:,0] == '1986'\n",
    "value_wine = world_alcohol_2[:,3] == 'Wine'\n",
    "world_alcohol_2[:,0][value_1986]= '2018'\n",
    "world_alcohol_2[:,3][value_wine] = 'Beer'"
   ]
  },
  {
   "cell_type": "code",
   "execution_count": 65,
   "metadata": {},
   "outputs": [
    {
     "data": {
      "text/plain": [
       "array([['2018', 'Western Pacific', 'Viet Nam', 'Beer', '0'],\n",
       "       ['2018', 'Americas', 'Uruguay', 'Other', '0.5'],\n",
       "       ['1985', 'Africa', \"Cte d'Ivoire\", 'Beer', '1.62'],\n",
       "       ...,\n",
       "       ['2018', 'Europe', 'Switzerland', 'Spirits', '2.54'],\n",
       "       ['1987', 'Western Pacific', 'Papua New Guinea', 'Other', '0'],\n",
       "       ['2018', 'Africa', 'Swaziland', 'Other', '5.15']], dtype='<U75')"
      ]
     },
     "execution_count": 65,
     "metadata": {},
     "output_type": "execute_result"
    }
   ],
   "source": [
    "world_alcohol_2"
   ]
  },
  {
   "cell_type": "code",
   "execution_count": 67,
   "metadata": {},
   "outputs": [],
   "source": [
    "world_alcohol[:,4][world_alcohol[:,4] == ''] = '0'"
   ]
  },
  {
   "cell_type": "code",
   "execution_count": 69,
   "metadata": {},
   "outputs": [
    {
     "data": {
      "text/plain": [
       "array([0.  , 0.5 , 1.62, ..., 2.54, 0.  , 5.15])"
      ]
     },
     "execution_count": 69,
     "metadata": {},
     "output_type": "execute_result"
    }
   ],
   "source": [
    "alcohol_consumption = world_alcohol[:,4]\n",
    "alcohol_consumption.astype(float)"
   ]
  },
  {
   "cell_type": "code",
   "execution_count": null,
   "metadata": {},
   "outputs": [],
   "source": []
  }
 ],
 "metadata": {
  "kernelspec": {
   "display_name": "Python 3",
   "language": "python",
   "name": "python3"
  },
  "language_info": {
   "codemirror_mode": {
    "name": "ipython",
    "version": 3
   },
   "file_extension": ".py",
   "mimetype": "text/x-python",
   "name": "python",
   "nbconvert_exporter": "python",
   "pygments_lexer": "ipython3",
   "version": "3.7.3"
  }
 },
 "nbformat": 4,
 "nbformat_minor": 2
}
